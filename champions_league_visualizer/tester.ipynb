{
 "cells": [
  {
   "cell_type": "code",
   "execution_count": 1,
   "id": "399336e4",
   "metadata": {},
   "outputs": [],
   "source": [
    "import pandas as pd"
   ]
  },
  {
   "cell_type": "code",
   "execution_count": 8,
   "id": "161efe3e",
   "metadata": {},
   "outputs": [
    {
     "name": "stdout",
     "output_type": "stream",
     "text": [
      " Manchester City\n",
      " Paris Saint-Germain\n",
      " RB Leipzig\n",
      " Club Brugge\n",
      " Liverpool\n",
      " Atletico Madrid\n",
      " FC Porto\n",
      " AC Milan\n",
      " Ajax\n",
      " Sporting CP\n",
      " Borussia Dortmund\n",
      " Besiktas JK\n",
      " Real Madrid\n",
      " Inter Milan\n",
      " FC Sheriff Tiraspol\n",
      " Shakhtar Donetsk\n",
      " Bayern Munich\n",
      " Benfica\n",
      " FC Barcelona\n",
      " Dynamo Kiev\n",
      " Manchester United\n",
      " Villarreal\n",
      " Atalanta\n",
      " BSC Young Boys\n",
      " LOSC Lille\n",
      " RB Salzburg\n",
      " Sevilla\n",
      " VfL Wolfsburg\n",
      " Juventus\n",
      " Chelsea\n",
      " FC Zenit\n",
      " Malmo FF\n"
     ]
    }
   ],
   "source": [
    "df = pd.read_csv(\n",
    "    'data\\groupStage2022.csv', header=0)\n",
    "df = df.rename(columns={'Unnamed: 0': 'Place'})\n",
    "df['Place'] = df['Place'] + 1\n",
    "\n",
    "# Cleaning the team column of dataframe\n",
    "all_teams = df['Team'].to_list()\n",
    "new_teams = []\n",
    "for team in all_teams:\n",
    "    team = team[2:]\n",
    "    if \"(X)\" in team:\n",
    "        team = team[:-4]\n",
    "    new_teams.append(team)\n",
    "df['Team'] = new_teams\n",
    "\n",
    "for i in range(len(df)):\n",
    "    print((df['Team'].iloc[i]))"
   ]
  },
  {
   "cell_type": "code",
   "execution_count": null,
   "id": "cda171ce",
   "metadata": {},
   "outputs": [],
   "source": []
  }
 ],
 "metadata": {
  "kernelspec": {
   "display_name": "Python 3 (ipykernel)",
   "language": "python",
   "name": "python3"
  },
  "language_info": {
   "codemirror_mode": {
    "name": "ipython",
    "version": 3
   },
   "file_extension": ".py",
   "mimetype": "text/x-python",
   "name": "python",
   "nbconvert_exporter": "python",
   "pygments_lexer": "ipython3",
   "version": "3.9.12"
  }
 },
 "nbformat": 4,
 "nbformat_minor": 5
}
