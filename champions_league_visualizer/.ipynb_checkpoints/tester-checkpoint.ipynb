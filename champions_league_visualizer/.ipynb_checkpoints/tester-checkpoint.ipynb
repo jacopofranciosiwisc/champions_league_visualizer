{
 "cells": [
  {
   "cell_type": "code",
   "execution_count": 1,
   "id": "8a18920b",
   "metadata": {},
   "outputs": [],
   "source": [
    "import pandas as pd"
   ]
  },
  {
   "cell_type": "code",
   "execution_count": null,
   "id": "9962f0cf",
   "metadata": {},
   "outputs": [],
   "source": [
    "df = pd.read_csv(\n",
    "    'data\\groupStage2022.csv', header=0)\n",
    "df = df.rename(columns={'Unnamed: 0': 'Place'})\n",
    "df['Place'] = df['Place'] + 1\n",
    "\n",
    "# Cleaning the team column of dataframe\n",
    "all_teams = df['Team'].to_list()\n",
    "new_teams = []\n",
    "for team in all_teams:\n",
    "    team = team[2:]\n",
    "    if \"(X)\" in team:\n",
    "        team = team[:-4]\n",
    "    new_teams.append(team)\n",
    "df['Team'] = new_teams\n",
    "\n",
    "print(df)"
   ]
  }
 ],
 "metadata": {
  "kernelspec": {
   "display_name": "Python 3 (ipykernel)",
   "language": "python",
   "name": "python3"
  },
  "language_info": {
   "codemirror_mode": {
    "name": "ipython",
    "version": 3
   },
   "file_extension": ".py",
   "mimetype": "text/x-python",
   "name": "python",
   "nbconvert_exporter": "python",
   "pygments_lexer": "ipython3",
   "version": "3.9.12"
  }
 },
 "nbformat": 4,
 "nbformat_minor": 5
}
